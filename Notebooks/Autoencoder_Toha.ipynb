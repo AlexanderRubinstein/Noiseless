{
  "nbformat": 4,
  "nbformat_minor": 0,
  "metadata": {
    "kernelspec": {
      "name": "python3",
      "display_name": "Python 3"
    },
    "language_info": {
      "codemirror_mode": {
        "name": "ipython",
        "version": 3
      },
      "file_extension": ".py",
      "mimetype": "text/x-python",
      "name": "python",
      "nbconvert_exporter": "python",
      "pygments_lexer": "ipython3",
      "version": "3.7.4"
    },
    "colab": {
      "name": "from_pretrained.ipynb",
      "provenance": [],
      "collapsed_sections": [],
      "toc_visible": true,
      "include_colab_link": true
    },
    "accelerator": "GPU"
  },
  "cells": [
    {
      "cell_type": "markdown",
      "metadata": {
        "id": "view-in-github",
        "colab_type": "text"
      },
      "source": [
        "<a href=\"https://colab.research.google.com/github/VyatkinAlexey/Noiseless/blob/master/Autoencoder.ipynb\" target=\"_parent\"><img src=\"https://colab.research.google.com/assets/colab-badge.svg\" alt=\"Open In Colab\"/></a>"
      ]
    },
    {
      "cell_type": "code",
      "metadata": {
        "id": "rxv1-gopJ4j5",
        "colab_type": "code",
        "colab": {}
      },
      "source": [
        "import torch\n",
        "import torch.nn as nn\n",
        "import torch.utils.data as torch_data\n",
        "import matplotlib.pyplot as plt\n",
        "import numpy as np\n",
        "import pandas as pd\n",
        "%matplotlib inline"
      ],
      "execution_count": 0,
      "outputs": []
    },
    {
      "cell_type": "code",
      "metadata": {
        "id": "-6WIcg7qFs6p",
        "colab_type": "code",
        "colab": {}
      },
      "source": [
        "train_data = pd.read_csv('sample_data/mnist_train_small.csv', header=None)\n",
        "test_data = pd.read_csv('sample_data/mnist_test.csv', header=None)\n",
        "\n",
        "X_train = train_data[train_data[0].isin([0,1])].drop(0, axis=1)\n",
        "X_test = test_data.drop(0, axis=1)\n",
        "y_train = train_data[train_data[0].isin([0,1])][0]\n",
        "y_test = test_data[0]"
      ],
      "execution_count": 0,
      "outputs": []
    },
    {
      "cell_type": "code",
      "metadata": {
        "id": "EkMOd_TmGIVW",
        "colab_type": "code",
        "colab": {
          "base_uri": "https://localhost:8080/",
          "height": 36
        },
        "outputId": "8039d8e1-239e-42cb-df99-157bb022b163"
      },
      "source": [
        "class mnist(torch_data.Dataset):\n",
        "    def __init__(self, X, y):\n",
        "        super(mnist, self).__init__()\n",
        "        self.X = torch.FloatTensor(np.array(X/255))\n",
        "        self.y = torch.FloatTensor(np.array(y))\n",
        "\n",
        "\n",
        "    def __len__(self):\n",
        "        return self.X.shape[0]\n",
        "\n",
        "\n",
        "    def __getitem__(self, idx):\n",
        "        return ([self.X[idx], self.y[idx]])\n",
        "\n",
        "train_dset = mnist(X_train, y_train) \n",
        "test_dset = mnist(X_test, y_test) \n",
        "\n",
        "print(len(train_dset[5][0]))"
      ],
      "execution_count": 106,
      "outputs": [
        {
          "output_type": "stream",
          "text": [
            "784\n"
          ],
          "name": "stdout"
        }
      ]
    },
    {
      "cell_type": "code",
      "metadata": {
        "id": "Z9q7uKUh8jkC",
        "colab_type": "code",
        "colab": {}
      },
      "source": [
        "class denoisingAE(nn.Module):\n",
        "    def __init__(self, encoder, decoder):\n",
        "        super(denoisingAE, self).__init__()\n",
        "        self.encoder = encoder\n",
        "        self.decoder = decoder\n",
        "\n",
        "    def forward(self, x, y=None):\n",
        "        \"\"\"\n",
        "        Take a pair of (data,labels) (clean, noise, semi-noisy)sample:\n",
        "        shape ((batch_size, x_dim), (batch_size, 1)\n",
        "        \"\"\"\n",
        "        if self.training:\n",
        "            x = x.view(1,1,28,28)\n",
        "            x = self.encoder(x)\n",
        "            if y==0:\n",
        "                x[0][100:128] = torch.zeros(28)\n",
        "            elif y==1:\n",
        "                x[0][:100] = torch.zeros(100)\n",
        "            x = self.decoder(x)\n",
        "            x = x.view(784)\n",
        "        return x"
      ],
      "execution_count": 0,
      "outputs": []
    },
    {
      "cell_type": "code",
      "metadata": {
        "id": "3ED7X8ZVCFbm",
        "colab_type": "code",
        "colab": {}
      },
      "source": [
        "class Unflatten(nn.Module):\n",
        "    def forward(self, inp):\n",
        "        return inp.reshape(inp.shape[0],inp.shape[1],1,1)\n",
        "\n",
        "\n",
        "\n",
        "encoder = nn.Sequential(\n",
        "    nn.Conv2d(1, 8, 5), # bs, 8, 24, 24\n",
        "    nn.Sigmoid(),\n",
        "    nn.MaxPool2d(2,2), # bs, 8, 12, 12\n",
        "    nn.Conv2d(8, 16, 5), # bs, 16, 8, 8\n",
        "    nn.Sigmoid(),\n",
        "    nn.MaxPool2d(2), # bs, 16, 4, 4\n",
        "    nn.Flatten(),\n",
        "    nn.Linear(16*4*4, 128),\n",
        ") \n",
        "\n",
        "decoder = nn.Sequential(\n",
        "    nn.Linear(128, 16*4*4),\n",
        "    Unflatten(),\n",
        "    nn.ConvTranspose2d(16*4*4, 64, 1),\n",
        "    nn.Sigmoid(),\n",
        "    nn.ConvTranspose2d(64, 32, 5, stride=2),\n",
        "    nn.Sigmoid(),\n",
        "    nn.ConvTranspose2d(32, 16, 5, stride=2),\n",
        "    nn.Sigmoid(),\n",
        "    nn.ConvTranspose2d(16, 1, 4, stride=2)\n",
        ")"
      ],
      "execution_count": 0,
      "outputs": []
    },
    {
      "cell_type": "code",
      "metadata": {
        "id": "ds6h-aCnKjg_",
        "colab_type": "code",
        "colab": {}
      },
      "source": [
        "device = torch.device('cuda')\n",
        "net = denoisingAE(encoder, decoder)\n",
        "criterion = nn.MSELoss()\n",
        "optimizer = torch.optim.Adam(net.parameters(), lr=1e-2)\n",
        "\n",
        "net.to(device);"
      ],
      "execution_count": 0,
      "outputs": []
    },
    {
      "cell_type": "code",
      "metadata": {
        "id": "oek3-f2xLPhW",
        "colab_type": "code",
        "colab": {}
      },
      "source": [
        "def train_epoch(net, data_train, criterion, optimizer):\n",
        "    net.train()\n",
        "    loss = 0\n",
        "    for sample in data_train:\n",
        "        x, y = sample\n",
        "        x = x.to(device)\n",
        "        y = y.to(device)\n",
        "        x_hat = net.forward(x, y).to(device)\n",
        "        sample_loss = criterion(x, x_hat)\n",
        "        loss += sample_loss\n",
        "        sample_loss.backward()\n",
        "        optimizer.step()\n",
        "\n",
        "    return loss/len(data_train)"
      ],
      "execution_count": 0,
      "outputs": []
    },
    {
      "cell_type": "code",
      "metadata": {
        "id": "lI8bqOJIL9Qb",
        "colab_type": "code",
        "colab": {
          "base_uri": "https://localhost:8080/",
          "height": 428
        },
        "outputId": "896dd8c8-a6fc-4d3f-f246-c9ceb62ecebb"
      },
      "source": [
        "for i in range(100):\n",
        "    print(f'epoch: {i}, loss: {train_epoch(net, train_dset, criterion, optimizer)}')"
      ],
      "execution_count": 0,
      "outputs": [
        {
          "output_type": "stream",
          "text": [
            "epoch: 0, loss: 1.8757492303848267\n",
            "epoch: 1, loss: 3.748345136642456\n",
            "epoch: 2, loss: 5.048675537109375\n",
            "epoch: 3, loss: 5.489572525024414\n",
            "epoch: 4, loss: 5.916383266448975\n",
            "epoch: 5, loss: 6.498894691467285\n",
            "epoch: 6, loss: 6.940377235412598\n",
            "epoch: 7, loss: 6.840693473815918\n",
            "epoch: 8, loss: 6.925296306610107\n",
            "epoch: 9, loss: 7.064377784729004\n",
            "epoch: 10, loss: 7.172752380371094\n",
            "epoch: 11, loss: 7.259344577789307\n",
            "epoch: 12, loss: 7.31589412689209\n",
            "epoch: 13, loss: 7.361939907073975\n",
            "epoch: 14, loss: 7.387976169586182\n",
            "epoch: 15, loss: 7.40094518661499\n",
            "epoch: 16, loss: 7.400724411010742\n",
            "epoch: 17, loss: 7.381535053253174\n",
            "epoch: 18, loss: 7.365080833435059\n",
            "epoch: 19, loss: 7.328773498535156\n",
            "epoch: 20, loss: 7.316483497619629\n",
            "epoch: 21, loss: 7.289459705352783\n"
          ],
          "name": "stdout"
        }
      ]
    },
    {
      "cell_type": "code",
      "metadata": {
        "id": "s6AXZK5IR9Rp",
        "colab_type": "code",
        "colab": {}
      },
      "source": [
        "example = train_dset[0]\n",
        "ex_x, ex_y = example\n",
        "ex_x = ex_x.view(1,1,28,28).to(device)\n",
        "enc_x = encoder(ex_x)"
      ],
      "execution_count": 0,
      "outputs": []
    },
    {
      "cell_type": "code",
      "metadata": {
        "id": "dlCtIcFIVyhR",
        "colab_type": "code",
        "colab": {}
      },
      "source": [
        "enc_x[0][:100] = torch.zeros(100)"
      ],
      "execution_count": 0,
      "outputs": []
    },
    {
      "cell_type": "code",
      "metadata": {
        "id": "_qig7HsSWrUw",
        "colab_type": "code",
        "colab": {}
      },
      "source": [
        ""
      ],
      "execution_count": 0,
      "outputs": []
    }
  ]
}